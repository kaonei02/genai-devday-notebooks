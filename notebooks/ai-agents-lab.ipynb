{
  "cells": [
    {
      "cell_type": "markdown",
      "metadata": {},
      "source": [
        "[![Lab Documentation and Solutions](https://img.shields.io/badge/Lab%20Documentation%20and%20Solutions-purple)](https://mongodb-developer.github.io/ai-agents-lab/)\n"
      ]
    },
    {
      "cell_type": "markdown",
      "metadata": {
        "id": "RM8rg08YhqZe"
      },
      "source": [
        "# Step 1: Setup prerequisites"
      ]
    },
    {
      "cell_type": "code",
      "execution_count": 1,
      "metadata": {},
      "outputs": [],
      "source": [
        "import os\n",
        "from pymongo import MongoClient"
      ]
    },
    {
      "cell_type": "code",
      "execution_count": 2,
      "metadata": {},
      "outputs": [
        {
          "data": {
            "text/plain": [
              "{'ok': 1.0,\n",
              " '$clusterTime': {'clusterTime': Timestamp(1748586734, 1),\n",
              "  'signature': {'hash': b'\\\\-\\x8dK\\\\\\x88\\xa9K\\xa3\\xa3\\xd6Ne\\xb2\\x12d\\xb6\\xbe\\x8d\\xd7',\n",
              "   'keyId': 7509508321418674177}},\n",
              " 'operationTime': Timestamp(1748586734, 1)}"
            ]
          },
          "execution_count": 2,
          "metadata": {},
          "output_type": "execute_result"
        }
      ],
      "source": [
        "# If you are using your own MongoDB Atlas cluster, use the connection string for your cluster here\n",
        "MONGODB_URI = os.environ.get(\"MONGODB_URI\")\n",
        "# Initialize a MongoDB Python client\n",
        "mongodb_client = MongoClient(MONGODB_URI)\n",
        "# Check the connection to the server\n",
        "mongodb_client.admin.command(\"ping\")"
      ]
    },
    {
      "cell_type": "markdown",
      "metadata": {},
      "source": [
        "### **Pick an LLM provider of your choice below**"
      ]
    },
    {
      "cell_type": "code",
      "execution_count": 3,
      "metadata": {},
      "outputs": [],
      "source": [
        "SERVERLESS_URL = os.environ.get(\"SERVERLESS_URL\")\n",
        "# Can be one of \"aws\", \"google\" or \"microsoft\"\n",
        "LLM_PROVIDER = \"aws\""
      ]
    },
    {
      "cell_type": "markdown",
      "metadata": {
        "id": "UUf3jtFzO4-V"
      },
      "source": [
        "# Step 2: Import data into MongoDB"
      ]
    },
    {
      "cell_type": "code",
      "execution_count": 4,
      "metadata": {},
      "outputs": [],
      "source": [
        "import json"
      ]
    },
    {
      "cell_type": "markdown",
      "metadata": {},
      "source": [
        "### **Do not change the values assigned to the variables below**"
      ]
    },
    {
      "cell_type": "code",
      "execution_count": 5,
      "metadata": {},
      "outputs": [],
      "source": [
        "#  Database name\n",
        "DB_NAME = \"mongodb_genai_devday_agents\"\n",
        "# Name of the collection with full documents- used for summarization\n",
        "FULL_COLLECTION_NAME = \"mongodb_docs\"\n",
        "# Name of the collection for vector search- used for Q&A\n",
        "VS_COLLECTION_NAME = \"mongodb_docs_embeddings\"\n",
        "# Name of the vector search index\n",
        "VS_INDEX_NAME = \"vector_index\""
      ]
    },
    {
      "cell_type": "code",
      "execution_count": 6,
      "metadata": {},
      "outputs": [],
      "source": [
        "# Connect to the `VS_COLLECTION_NAME` collection.\n",
        "vs_collection = mongodb_client[DB_NAME][VS_COLLECTION_NAME]\n",
        "# Connect to the `FULL_COLLECTION_NAME` collection.\n",
        "full_collection = mongodb_client[DB_NAME][FULL_COLLECTION_NAME]"
      ]
    },
    {
      "cell_type": "code",
      "execution_count": 7,
      "metadata": {},
      "outputs": [
        {
          "name": "stdout",
          "output_type": "stream",
          "text": [
            "Deleting existing documents from the mongodb_docs_embeddings collection.\n",
            "107 documents ingested into the mongodb_docs_embeddings collection.\n"
          ]
        }
      ],
      "source": [
        "# Insert a dataset of MongoDB docs with embeddings into the `VS_COLLECTION_NAME` collection\n",
        "with open(f\"../data/{VS_COLLECTION_NAME}.json\", \"r\") as data_file:\n",
        "    json_data = data_file.read()\n",
        "\n",
        "data = json.loads(json_data)\n",
        "\n",
        "print(f\"Deleting existing documents from the {VS_COLLECTION_NAME} collection.\")\n",
        "vs_collection.delete_many({})\n",
        "vs_collection.insert_many(data)\n",
        "print(\n",
        "    f\"{vs_collection.count_documents({})} documents ingested into the {VS_COLLECTION_NAME} collection.\"\n",
        ")"
      ]
    },
    {
      "cell_type": "code",
      "execution_count": 8,
      "metadata": {},
      "outputs": [
        {
          "name": "stdout",
          "output_type": "stream",
          "text": [
            "Deleting existing documents from the mongodb_docs collection.\n",
            "20 documents ingested into the mongodb_docs collection.\n"
          ]
        }
      ],
      "source": [
        "# Insert a dataset of MongoDB documentation pages into the `FULL_COLLECTION_NAME` collection\n",
        "with open(f\"../data/{FULL_COLLECTION_NAME}.json\", \"r\") as data_file:\n",
        "    json_data = data_file.read()\n",
        "\n",
        "data = json.loads(json_data)\n",
        "\n",
        "print(f\"Deleting existing documents from the {FULL_COLLECTION_NAME} collection.\")\n",
        "full_collection.delete_many({})\n",
        "full_collection.insert_many(data)\n",
        "print(\n",
        "    f\"{full_collection.count_documents({})} documents ingested into the {FULL_COLLECTION_NAME} collection.\"\n",
        ")"
      ]
    },
    {
      "cell_type": "markdown",
      "metadata": {},
      "source": [
        "# Step 3: Create a vector search index"
      ]
    },
    {
      "cell_type": "code",
      "execution_count": 9,
      "metadata": {},
      "outputs": [],
      "source": [
        "from utils import create_index, check_index_ready"
      ]
    },
    {
      "cell_type": "code",
      "execution_count": 10,
      "metadata": {},
      "outputs": [],
      "source": [
        "# Create vector index definition specifying:\n",
        "# path: Path to the embeddings field\n",
        "# numDimensions: Number of embedding dimensions- depends on the embedding model used\n",
        "# similarity: Similarity metric. One of cosine, euclidean, dotProduct.\n",
        "model = {\n",
        "    \"name\": VS_INDEX_NAME,\n",
        "    \"type\": \"vectorSearch\",\n",
        "    \"definition\": {\n",
        "        \"fields\": [\n",
        "            {\n",
        "                \"type\": \"vector\",\n",
        "                \"path\": \"embedding\",\n",
        "                \"numDimensions\": 384,\n",
        "                \"similarity\": \"cosine\",\n",
        "            }\n",
        "        ]\n",
        "    },\n",
        "}"
      ]
    },
    {
      "cell_type": "markdown",
      "metadata": {},
      "source": [
        "📚 Refer to the `utils.py` script under `notebooks/utils`"
      ]
    },
    {
      "cell_type": "code",
      "execution_count": 11,
      "metadata": {},
      "outputs": [
        {
          "name": "stdout",
          "output_type": "stream",
          "text": [
            "Creating the vector_index index\n"
          ]
        }
      ],
      "source": [
        "# Use the `create_index` function from the `utils` module to create a vector search index with the above definition for the `vs_collection` collection\n",
        "create_index(vs_collection, VS_INDEX_NAME, model)"
      ]
    },
    {
      "cell_type": "code",
      "execution_count": 12,
      "metadata": {},
      "outputs": [
        {
          "name": "stdout",
          "output_type": "stream",
          "text": [
            "vector_index index status: READY\n",
            "vector_index index definition: {'fields': [{'type': 'vector', 'path': 'embedding', 'numDimensions': 384, 'similarity': 'cosine'}]}\n"
          ]
        }
      ],
      "source": [
        "# Use the `check_index_ready` function from the `utils` module to verify that the index was created and is in READY status before proceeding\n",
        "check_index_ready(vs_collection, VS_INDEX_NAME)"
      ]
    },
    {
      "cell_type": "markdown",
      "metadata": {
        "id": "pZfheX5FiIhU"
      },
      "source": [
        "# Step 4: Create agent tools\n"
      ]
    },
    {
      "cell_type": "code",
      "execution_count": 13,
      "metadata": {},
      "outputs": [
        {
          "name": "stderr",
          "output_type": "stream",
          "text": [
            "/home/codespace/.python/current/lib/python3.12/site-packages/tqdm/auto.py:21: TqdmWarning: IProgress not found. Please update jupyter and ipywidgets. See https://ipywidgets.readthedocs.io/en/stable/user_install.html\n",
            "  from .autonotebook import tqdm as notebook_tqdm\n"
          ]
        }
      ],
      "source": [
        "# You may see a warning upon running this cell. You can ignore it.\n",
        "from langchain.agents import tool\n",
        "from sentence_transformers import SentenceTransformer\n",
        "from typing import List"
      ]
    },
    {
      "cell_type": "markdown",
      "metadata": {},
      "source": [
        "### Vector Search"
      ]
    },
    {
      "cell_type": "code",
      "execution_count": 14,
      "metadata": {},
      "outputs": [],
      "source": [
        "# Load the `gte-small` model using the Sentence Transformers library\n",
        "embedding_model = SentenceTransformer(\"thenlper/gte-small\")"
      ]
    },
    {
      "cell_type": "markdown",
      "metadata": {},
      "source": [
        "📚 https://huggingface.co/thenlper/gte-small#usage (See \"Use with sentence-transformers\" under Usage)"
      ]
    },
    {
      "cell_type": "code",
      "execution_count": 15,
      "metadata": {},
      "outputs": [],
      "source": [
        "# Define a function that takes a piece of text (`text`) as input, embeds it using the `embedding_model` instantiated above and returns the embedding as a list\n",
        "# An array can be converted to a list using the `tolist()` method\n",
        "def get_embedding(text: str) -> List[float]:\n",
        "    \"\"\"\n",
        "    Generate the embedding for a piece of text.\n",
        "\n",
        "    Args:\n",
        "        text (str): Text to embed.\n",
        "\n",
        "    Returns:\n",
        "        List[float]: Embedding of the text as a list.\n",
        "    \"\"\"\n",
        "    embedding = embedding_model.encode(text)\n",
        "    return embedding.tolist()"
      ]
    },
    {
      "cell_type": "markdown",
      "metadata": {},
      "source": [
        "📚 https://www.mongodb.com/docs/atlas/atlas-vector-search/vector-search-stage/#ann-examples (Refer to the \"Basic Example\")"
      ]
    },
    {
      "cell_type": "code",
      "execution_count": 16,
      "metadata": {},
      "outputs": [],
      "source": [
        "# Define a tool to retrieve relevant documents for a user query using vector search\n",
        "@tool\n",
        "def get_information_for_question_answering(user_query: str) -> str:\n",
        "    \"\"\"\n",
        "    Retrieve information using vector search to answer a user query.\n",
        "\n",
        "    Args:\n",
        "    user_query (str): The user's query string.\n",
        "\n",
        "    Returns:\n",
        "    str: The retrieved information formatted as a string.\n",
        "    \"\"\"\n",
        "\n",
        "    # Generate embedding for the `user_query` using the `get_embedding` function defined above\n",
        "    query_embedding = get_embedding(user_query)\n",
        "\n",
        "    # Define an aggregation pipeline consisting of a $vectorSearch stage, followed by a $project stage\n",
        "    # Set the number of candidates to 150 and only return the top 5 documents from the vector search\n",
        "    # In the $project stage, exclude the `_id` field and include only the `body` field and `vectorSearchScore`\n",
        "    # NOTE: Use variables defined previously for the `index`, `queryVector` and `path` fields in the $vectorSearch stage\n",
        "    pipeline = [\n",
        "    {\n",
        "        \"$vectorSearch\": {\n",
        "            \"index\": VS_INDEX_NAME,\n",
        "            \"path\": \"embedding\",\n",
        "            \"queryVector\": query_embedding,\n",
        "            \"numCandidates\": 150,\n",
        "            \"limit\": 5,\n",
        "        }\n",
        "    },\n",
        "    {\n",
        "        \"$project\": {\n",
        "            \"_id\": 0,\n",
        "            \"body\": 1,\n",
        "            \"score\": {\"$meta\": \"vectorSearchScore\"},\n",
        "        }\n",
        "    },\n",
        "]\n",
        "\n",
        "    # Execute the aggregation `pipeline` against the `vs_collection` collection and store the results in `results`\n",
        "    results = vs_collection.aggregate(pipeline)\n",
        "    # Concatenate the results into a string\n",
        "    context = \"\\n\\n\".join([doc.get(\"body\") for doc in results])\n",
        "    return context"
      ]
    },
    {
      "cell_type": "markdown",
      "metadata": {},
      "source": [
        "### Get page content"
      ]
    },
    {
      "cell_type": "markdown",
      "metadata": {},
      "source": [
        "📚 https://www.mongodb.com/docs/manual/reference/method/db.collection.findOne/#return-all-but-the-excluded-fields"
      ]
    },
    {
      "cell_type": "code",
      "execution_count": 17,
      "metadata": {},
      "outputs": [],
      "source": [
        "# Define a tool to retrieve the content of a documentation page for summarization\n",
        "@tool\n",
        "def get_page_content_for_summarization(user_query: str) -> str:\n",
        "    \"\"\"\n",
        "    Retrieve page content based on provided title.\n",
        "\n",
        "    Args:\n",
        "    user_query (str): The user's query string i.e. title of the documentation page.\n",
        "\n",
        "    Returns:\n",
        "    str: The content of the page.\n",
        "    \"\"\"\n",
        "    # Query the documents where the `title` field is equal to the `user_query`\n",
        "    query = {\"title\": user_query}\n",
        "    # Only return the `body` field from the retrieved documents.\n",
        "    # NOTE: Set fields to include to 1, those to exclude to 0. `_id` is included by default, so exclude that.\n",
        "    projection = {\"_id\": 0, \"body\": 1}\n",
        "    # Use the `query` and `projection` with the `find_one` method\n",
        "    # to get the `body` of the document with `title` equal to the `user_query` from the `full_collection` collection\n",
        "    document = full_collection.find_one(query, projection)\n",
        "    if document:\n",
        "        return document[\"body\"]\n",
        "    else:\n",
        "        return \"Document not found\""
      ]
    },
    {
      "cell_type": "code",
      "execution_count": 18,
      "metadata": {},
      "outputs": [],
      "source": [
        "# Create the list of tools\n",
        "tools = [\n",
        "    get_information_for_question_answering,\n",
        "    get_page_content_for_summarization,\n",
        "]"
      ]
    },
    {
      "cell_type": "markdown",
      "metadata": {},
      "source": [
        "### Test out the tools\n"
      ]
    },
    {
      "cell_type": "code",
      "execution_count": 19,
      "metadata": {},
      "outputs": [
        {
          "data": {
            "text/plain": [
              "\"# Backup and Restore Sharded Clusters\\n\\nThe following tutorials describe backup and restoration for sharded clusters:\\n\\nTo use `mongodump` and `mongorestore` as a backup strategy for sharded clusters, you must stop the sharded cluster balancer and use the `fsync` command or the `db.fsyncLock()` method on `mongos` to block writes on the cluster during backups.\\n\\nSharded clusters can also use one of the following coordinated backup and restore processes, which maintain the atomicity guarantees of transactions across shards:\\n\\n- MongoDB Atlas\\n\\n- MongoDB Cloud Manager\\n\\n- MongoDB Ops Manager\\n\\nUse file system snapshots back up each component in the sharded cluster individually. The procedure involves stopping the cluster balancer. If your system configuration allows file system backups, this might be more efficient than using MongoDB tools.\\n\\nCreate backups using `mongodump` to back up each component in the cluster individually.\\n\\nCreate backups using `mongodump` to back up each component in the cluster individually.\\n\\nLimit the operation of the cluster balancer to provide a window for regular backup operations.\\n\\nAn outline of the procedure and consideration for restoring an *entire* sharded cluster from backup.\\n\\n# Configuration and Maintenance\\n\\nThis section describes routine management operations, including updating your MongoDB deployment's configuration.\\n\\nOutlines common MongoDB configurations and examples of best-practice configurations for common use cases.\\n\\nUpgrade a MongoDB deployment to a different patch release within the same major release series.\\n\\nStart, configure, and manage running `mongod` process.\\n\\nStop in progress MongoDB client operations using `db.killOp()` and `maxTimeMS()`.\\n\\nArchive the current log files and start new ones.\\n\\n## Full Time Diagnostic Data Capture\\n\\nTo help MongoDB engineers analyze server behavior, `mongod` and `mongos` processes include a Full Time Diagnostic Data Capture (FTDC) mechanism. FTDC is enabled by default. Due to its importance in debugging deployments, FTDC thread failures are fatal and stop the parent `mongod` or `mongos` process.\\n\\nFTDC data files are compressed and not human-readable. They inherit the same file access permissions as the MongoDB data files. Only users with access to FTDC data files can transmit the FTDC data.\\n\\nMongoDB engineers cannot access FTDC data without explicit permission and assistance from system owners or operators.\\n\\nFTDC data **never** contains any of the following information:\\n\\n- Samples of queries, query predicates, or query results\\n\\n- Data sampled from any end-user collection or index\\n\\n- System or MongoDB user credentials or security certificates\\n\\n# Create a MongoDB Deployment\\n\\nYou can create a free tier MongoDB deployment on MongoDB Atlas to store and manage your data. MongoDB Atlas hosts and manages your MongoDB database in the cloud.\\n\\n## Create a Free MongoDB deployment on Atlas\\n\\nComplete the Get Started with Atlas guide to set up a new Atlas account and load sample data into a new free tier MongoDB deployment.\\n\\n## Save your Credentials\\n\\nAfter you create your database user, save that user's username and password to a safe location for use in an upcoming step.\\n\\nAfter you complete these steps, you have a new free tier MongoDB deployment on Atlas, database user credentials, and sample data loaded in your database.\\n\\nIf you run into issues on this step, ask for help in the MongoDB Community Forums or submit feedback by using the Rate this page tab on the right or bottom right side of this page.\""
            ]
          },
          "execution_count": 19,
          "metadata": {},
          "output_type": "execute_result"
        }
      ],
      "source": [
        "# Test out the `get_information_for_question_answering` tool with the query \"What are some best practices for data backups in MongoDB?\"\n",
        "# You should see a non-empty response\n",
        "get_information_for_question_answering.invoke(\n",
        "    \"What are some best practices for data backups in MongoDB?\"\n",
        ")"
      ]
    },
    {
      "cell_type": "code",
      "execution_count": 20,
      "metadata": {},
      "outputs": [
        {
          "data": {
            "text/plain": [
              "\"# Create a MongoDB Deployment\\n\\nYou can create a free tier MongoDB deployment on MongoDB Atlas to store and manage your data. MongoDB Atlas hosts and manages your MongoDB database in the cloud.\\n\\n## Create a Free MongoDB deployment on Atlas\\n\\nComplete the Get Started with Atlas guide to set up a new Atlas account and load sample data into a new free tier MongoDB deployment.\\n\\n## Save your Credentials\\n\\nAfter you create your database user, save that user's username and password to a safe location for use in an upcoming step.\\n\\nAfter you complete these steps, you have a new free tier MongoDB deployment on Atlas, database user credentials, and sample data loaded in your database.\\n\\nIf you run into issues on this step, ask for help in the MongoDB Community Forums or submit feedback by using the Rate this page tab on the right or bottom right side of this page.\\n\\n\""
            ]
          },
          "execution_count": 20,
          "metadata": {},
          "output_type": "execute_result"
        }
      ],
      "source": [
        "# Test out the `get_page_content_for_summarization` tool with page title \"Create a MongoDB Deployment\"\n",
        "# You should see a non-empty response\n",
        "get_page_content_for_summarization.invoke(\"Create a MongoDB Deployment\")"
      ]
    },
    {
      "cell_type": "markdown",
      "metadata": {},
      "source": [
        "# Step 5: Define graph state"
      ]
    },
    {
      "cell_type": "code",
      "execution_count": 21,
      "metadata": {},
      "outputs": [],
      "source": [
        "from typing import Annotated\n",
        "from langgraph.graph.message import add_messages\n",
        "from typing_extensions import TypedDict"
      ]
    },
    {
      "cell_type": "code",
      "execution_count": 22,
      "metadata": {},
      "outputs": [],
      "source": [
        "# Define the graph state\n",
        "# We are only tracking chat messages but you can track other attributes as well\n",
        "class GraphState(TypedDict):\n",
        "    messages: Annotated[list, add_messages]"
      ]
    },
    {
      "cell_type": "markdown",
      "metadata": {},
      "source": [
        "# Step 6: Instantiate the LLM"
      ]
    },
    {
      "cell_type": "code",
      "execution_count": 23,
      "metadata": {},
      "outputs": [],
      "source": [
        "from langchain_core.load import load\n",
        "from langchain_core.prompts import ChatPromptTemplate, MessagesPlaceholder\n",
        "import requests"
      ]
    },
    {
      "cell_type": "code",
      "execution_count": 24,
      "metadata": {},
      "outputs": [
        {
          "name": "stderr",
          "output_type": "stream",
          "text": [
            "/tmp/ipykernel_24556/2346806571.py:5: LangChainBetaWarning: The function `load` is in beta. It is actively being worked on, so the API may change.\n",
            "  llm = load(llm_dict[\"llm\"], secrets_map=llm_dict[\"secrets_map\"])\n"
          ]
        }
      ],
      "source": [
        "# Obtain the Langchain LLM object from our serverless endpoint\n",
        "llm_dict = requests.post(\n",
        "    url=SERVERLESS_URL, json={\"task\": \"get_llm\", \"data\": LLM_PROVIDER}\n",
        ").json()\n",
        "llm = load(llm_dict[\"llm\"], secrets_map=llm_dict[\"secrets_map\"])"
      ]
    },
    {
      "cell_type": "code",
      "execution_count": 25,
      "metadata": {},
      "outputs": [],
      "source": [
        "# Create a Chain-of-Thought (CoT) prompt template for the agent.\n",
        "# This includes a system prompt with a placeholder for tool names, and a placeholder for messages i.e. user queries and assistant responses\n",
        "prompt = ChatPromptTemplate.from_messages(\n",
        "    [\n",
        "        (\n",
        "            \"You are a helpful AI assistant.\"\n",
        "            \" You are provided with tools to answer questions and summarize technical documentation related to MongoDB.\"\n",
        "            \" Think step-by-step and use these tools to get the information required to answer the user query.\"\n",
        "            \" Do not re-run tools unless absolutely necessary.\"\n",
        "            \" If you are not able to get enough information using the tools, reply with I DON'T KNOW.\"\n",
        "            \" You have access to the following tools: {tool_names}.\"\n",
        "        ),\n",
        "        MessagesPlaceholder(variable_name=\"messages\"),\n",
        "    ]\n",
        ")"
      ]
    },
    {
      "cell_type": "code",
      "execution_count": 26,
      "metadata": {},
      "outputs": [],
      "source": [
        "# Fill in the prompt template with the tool names\n",
        "prompt = prompt.partial(tool_names=\", \".join([tool.name for tool in tools]))"
      ]
    },
    {
      "cell_type": "markdown",
      "metadata": {},
      "source": [
        "📚 https://python.langchain.com/v0.1/docs/modules/model_io/chat/function_calling/#binding-tool-schemas"
      ]
    },
    {
      "cell_type": "code",
      "execution_count": 27,
      "metadata": {},
      "outputs": [],
      "source": [
        "# Bind the `tools` to the `llm` instantiated above\n",
        "bind_tools = llm.bind_tools(tools)"
      ]
    },
    {
      "cell_type": "markdown",
      "metadata": {},
      "source": [
        "📚 https://python.langchain.com/v0.1/docs/expression_language/primitives/sequence/#the-pipe-operator"
      ]
    },
    {
      "cell_type": "code",
      "execution_count": 28,
      "metadata": {},
      "outputs": [],
      "source": [
        "# Chain the `prompt` with the tool-bound llm using the `|` operator\n",
        "llm_with_tools = prompt | bind_tools"
      ]
    },
    {
      "cell_type": "code",
      "execution_count": 29,
      "metadata": {},
      "outputs": [
        {
          "data": {
            "text/plain": [
              "[{'name': 'get_page_content_for_summarization',\n",
              "  'args': {'user_query': 'Create a MongoDB Deployment'},\n",
              "  'id': 'toolu_bdrk_0182LP6dTD8MGAZ1xGYKycnk',\n",
              "  'type': 'tool_call'}]"
            ]
          },
          "execution_count": 29,
          "metadata": {},
          "output_type": "execute_result"
        }
      ],
      "source": [
        "# Test that the LLM is making the right tool calls\n",
        "llm_with_tools.invoke(\n",
        "    [\"Give me a summary of the page titled Create a MongoDB Deployment.\"]\n",
        ").tool_calls"
      ]
    },
    {
      "cell_type": "code",
      "execution_count": 30,
      "metadata": {},
      "outputs": [
        {
          "data": {
            "text/plain": [
              "[{'name': 'get_information_for_question_answering',\n",
              "  'args': {'user_query': 'What are some best practices for data backups in MongoDB?'},\n",
              "  'id': 'toolu_bdrk_01XV8W3DX8NBG1r2eM2gw8sH',\n",
              "  'type': 'tool_call'}]"
            ]
          },
          "execution_count": 30,
          "metadata": {},
          "output_type": "execute_result"
        }
      ],
      "source": [
        "# Test that the LLM is making the right tool calls\n",
        "llm_with_tools.invoke(\n",
        "    [\"What are some best practices for data backups in MongoDB?\"]\n",
        ").tool_calls"
      ]
    },
    {
      "cell_type": "markdown",
      "metadata": {},
      "source": [
        "# Step 7: Define graph nodes"
      ]
    },
    {
      "cell_type": "code",
      "execution_count": 31,
      "metadata": {},
      "outputs": [],
      "source": [
        "from langchain_core.messages import ToolMessage\n",
        "from typing import Dict\n",
        "from pprint import pprint"
      ]
    },
    {
      "cell_type": "code",
      "execution_count": 32,
      "metadata": {},
      "outputs": [],
      "source": [
        "# Define the agent node\n",
        "def agent(state: GraphState) -> Dict[str, List]:\n",
        "    \"\"\"\n",
        "    Agent node\n",
        "\n",
        "    Args:\n",
        "        state (GraphState): Graph state\n",
        "\n",
        "    Returns:\n",
        "        Dict[str, List]: Updates to messages\n",
        "    \"\"\"\n",
        "    # Get the messages from the graph `state`\n",
        "    messages = state[\"messages\"]\n",
        "    # Invoke `llm_with_tools` with `messages` using the `invoke` method\n",
        "    # HINT: See Step 6 for how to invoke `llm_with_tools`\n",
        "    result = llm_with_tools.invoke(messages)\n",
        "    # Write `result` to the `messages` attribute of the graph state\n",
        "    return {\"messages\": [result]}"
      ]
    },
    {
      "cell_type": "code",
      "execution_count": 33,
      "metadata": {},
      "outputs": [
        {
          "name": "stdout",
          "output_type": "stream",
          "text": [
            "{'get_information_for_question_answering': StructuredTool(name='get_information_for_question_answering', description=\"Retrieve information using vector search to answer a user query.\\n\\nArgs:\\nuser_query (str): The user's query string.\\n\\nReturns:\\nstr: The retrieved information formatted as a string.\", args_schema=<class 'langchain_core.utils.pydantic.get_information_for_question_answering'>, func=<function get_information_for_question_answering at 0x705528945e40>),\n",
            " 'get_page_content_for_summarization': StructuredTool(name='get_page_content_for_summarization', description=\"Retrieve page content based on provided title.\\n\\nArgs:\\nuser_query (str): The user's query string i.e. title of the documentation page.\\n\\nReturns:\\nstr: The content of the page.\", args_schema=<class 'langchain_core.utils.pydantic.get_page_content_for_summarization'>, func=<function get_page_content_for_summarization at 0x705528946020>)}\n"
          ]
        }
      ],
      "source": [
        "# Create a map of tool name to tool call\n",
        "tools_by_name = {tool.name: tool for tool in tools}\n",
        "pprint(tools_by_name)"
      ]
    },
    {
      "cell_type": "code",
      "execution_count": 34,
      "metadata": {},
      "outputs": [],
      "source": [
        "# Define tool node\n",
        "def tool_node(state: GraphState) -> Dict[str, List]:\n",
        "    \"\"\"\n",
        "    Tool node\n",
        "\n",
        "    Args:\n",
        "        state (GraphState): Graph state\n",
        "\n",
        "    Returns:\n",
        "        Dict[str, List]: Updates to messages\n",
        "    \"\"\"\n",
        "    result = []\n",
        "    # Get the list of tool calls from messages\n",
        "    tool_calls = state[\"messages\"][-1].tool_calls\n",
        "    # A tool_call looks as follows:\n",
        "    # {\n",
        "    #     \"name\": \"get_information_for_question_answering\",\n",
        "    #     \"args\": {\"user_query\": \"What are Atlas Triggers\"},\n",
        "    #     \"id\": \"call_H5TttXb423JfoulF1qVfPN3m\",\n",
        "    #     \"type\": \"tool_call\",\n",
        "    # }\n",
        "    # Iterate through `tool_calls`\n",
        "    for tool_call in tool_calls:\n",
        "        # Get the tool from `tools_by_name` using the `name` attribute of the `tool_call`\n",
        "        tool = tools_by_name[tool_call[\"name\"]]\n",
        "        # Invoke the `tool` using the `args` attribute of the `tool_call`\n",
        "        # HINT: See previous line to see how to extract attributes from `tool_call`\n",
        "        observation = tool.invoke(tool_call[\"args\"])\n",
        "        # Append the result of executing the tool to the `result` list as a ToolMessage\n",
        "        # The `content` of the message is `observation` i.e. result of the tool call\n",
        "        # The `tool_call_id` can be obtained from the `tool_call`\n",
        "        result.append(ToolMessage(content=observation, tool_call_id=tool_call[\"id\"]))\n",
        "    # Write `result` to the `messages` attribute of the graph state\n",
        "    return {\"messages\": result}"
      ]
    },
    {
      "cell_type": "markdown",
      "metadata": {},
      "source": [
        "# Step 8: Define conditional edges"
      ]
    },
    {
      "cell_type": "code",
      "execution_count": 35,
      "metadata": {},
      "outputs": [],
      "source": [
        "from langgraph.graph import END"
      ]
    },
    {
      "cell_type": "code",
      "execution_count": 36,
      "metadata": {},
      "outputs": [],
      "source": [
        "# Define conditional routing function\n",
        "def route_tools(state: GraphState):\n",
        "    \"\"\"\n",
        "    Use in the conditional_edge to route to the tool node if the last message\n",
        "    has tool calls. Otherwise, route to the end.\n",
        "    \"\"\"\n",
        "    # Get messages from graph state\n",
        "    messages = state.get(\"messages\", [])\n",
        "    if len(messages) > 0:\n",
        "        # Get the last AI message from messages\n",
        "        ai_message = messages[-1]\n",
        "    else:\n",
        "        raise ValueError(f\"No messages found in input state to tool_edge: {state}\")\n",
        "    # Check if the last message has tool calls\n",
        "    if hasattr(ai_message, \"tool_calls\") and len(ai_message.tool_calls) > 0:\n",
        "        # If yes, return \"tools\"\n",
        "        return \"tools\"\n",
        "    # If no, return END\n",
        "    return END"
      ]
    },
    {
      "cell_type": "markdown",
      "metadata": {},
      "source": [
        "# Step 9: Build the graph"
      ]
    },
    {
      "cell_type": "code",
      "execution_count": 37,
      "metadata": {},
      "outputs": [],
      "source": [
        "from langgraph.graph import StateGraph, START\n",
        "from IPython.display import Image, display"
      ]
    },
    {
      "cell_type": "code",
      "execution_count": 38,
      "metadata": {},
      "outputs": [],
      "source": [
        "# Instantiate the graph\n",
        "graph = StateGraph(GraphState)"
      ]
    },
    {
      "cell_type": "markdown",
      "metadata": {},
      "source": [
        "📚 https://blog.langchain.dev/langgraph/#nodes"
      ]
    },
    {
      "cell_type": "code",
      "execution_count": 39,
      "metadata": {},
      "outputs": [
        {
          "data": {
            "text/plain": [
              "<langgraph.graph.state.StateGraph at 0x70552893b3e0>"
            ]
          },
          "execution_count": 39,
          "metadata": {},
          "output_type": "execute_result"
        }
      ],
      "source": [
        "# Add nodes to the `graph` using the `add_node` function\n",
        "# Add a `agent` node. The `agent` node should run the `agent` function\n",
        "graph.add_node(\"agent\", agent)\n",
        "# Add a `tools` node. The `tools` node should run the `tool_node` function\n",
        "graph.add_node(\"tools\", tool_node)"
      ]
    },
    {
      "cell_type": "markdown",
      "metadata": {},
      "source": [
        "📚 https://langchain-ai.github.io/langgraph/concepts/low_level/#normal-edges"
      ]
    },
    {
      "cell_type": "code",
      "execution_count": 40,
      "metadata": {},
      "outputs": [
        {
          "data": {
            "text/plain": [
              "<langgraph.graph.state.StateGraph at 0x70552893b3e0>"
            ]
          },
          "execution_count": 40,
          "metadata": {},
          "output_type": "execute_result"
        }
      ],
      "source": [
        "# Add fixed edges to the `graph` using the `add_edge` method\n",
        "# Add an edge from the START node to the `agent` node\n",
        "graph.add_edge(START, \"agent\")\n",
        "# Add an edge from the `tools` node to the `agent` node\n",
        "graph.add_edge(\"tools\", \"agent\")"
      ]
    },
    {
      "cell_type": "markdown",
      "metadata": {},
      "source": [
        "📚 https://langchain-ai.github.io/langgraph/concepts/low_level/#conditional-edges"
      ]
    },
    {
      "cell_type": "code",
      "execution_count": 41,
      "metadata": {},
      "outputs": [
        {
          "data": {
            "text/plain": [
              "<langgraph.graph.state.StateGraph at 0x70552893b3e0>"
            ]
          },
          "execution_count": 41,
          "metadata": {},
          "output_type": "execute_result"
        }
      ],
      "source": [
        "# Use the `add_conditional_edges` method to add a conditional edge from the `agent` node to the `tools` node\n",
        "# based on the output of the `route_tools` function\n",
        "graph.add_conditional_edges(\n",
        "    \"agent\",\n",
        "    route_tools,\n",
        "    {\"tools\": \"tools\", END: END},\n",
        ")"
      ]
    },
    {
      "cell_type": "code",
      "execution_count": 42,
      "metadata": {},
      "outputs": [],
      "source": [
        "# Compile the `graph`\n",
        "app = graph.compile()"
      ]
    },
    {
      "cell_type": "code",
      "execution_count": 43,
      "metadata": {},
      "outputs": [
        {
          "data": {
            "image/png": "[encoded data removed]",
            "text/plain": [
              "<IPython.core.display.Image object>"
            ]
          },
          "metadata": {},
          "output_type": "display_data"
        }
      ],
      "source": [
        "# Visualize the graph\n",
        "try:\n",
        "    display(Image(app.get_graph().draw_mermaid_png()))\n",
        "except Exception:\n",
        "    # This requires some extra dependencies and is optional\n",
        "    pass"
      ]
    },
    {
      "cell_type": "markdown",
      "metadata": {},
      "source": [
        "# Step 10: Execute the graph"
      ]
    },
    {
      "cell_type": "code",
      "execution_count": 44,
      "metadata": {},
      "outputs": [],
      "source": [
        "# Stream outputs from the graph as they pass through its nodes\n",
        "def execute_graph(user_input: str) -> None:\n",
        "    \"\"\"\n",
        "    Stream outputs from the graph\n",
        "\n",
        "    Args:\n",
        "        user_input (str): User query string\n",
        "    \"\"\"\n",
        "    # Add user input to the messages attribute of the graph state\n",
        "    # The role of the message should be \"user\" and content should be `user_input`\n",
        "    input = {\"messages\": [(\"user\", user_input)]}\n",
        "    # Pass input to the graph and stream the outputs\n",
        "    for output in app.stream(input):\n",
        "        for key, value in output.items():\n",
        "            print(f\"Node {key}:\")\n",
        "            print(value)\n",
        "    print(\"---FINAL ANSWER---\")\n",
        "    print(value[\"messages\"][-1].content)"
      ]
    },
    {
      "cell_type": "code",
      "execution_count": 45,
      "metadata": {},
      "outputs": [
        {
          "name": "stdout",
          "output_type": "stream",
          "text": [
            "Node agent:\n",
            "{'messages': [AIMessage(content=\"Certainly! To answer your question about best practices for data backups in MongoDB, I'll need to retrieve some information using the provided tools. Let's start by using the get_information_for_question_answering tool to find relevant information.\", additional_kwargs={'usage': {'prompt_tokens': 637, 'completion_tokens': 125, 'cache_read_input_tokens': 0, 'cache_write_input_tokens': 0, 'total_tokens': 762}, 'stop_reason': 'tool_use', 'thinking': {}, 'model_id': 'anthropic.claude-3-5-sonnet-20240620-v1:0', 'model_name': 'anthropic.claude-3-5-sonnet-20240620-v1:0'}, response_metadata={'usage': {'prompt_tokens': 637, 'completion_tokens': 125, 'cache_read_input_tokens': 0, 'cache_write_input_tokens': 0, 'total_tokens': 762}, 'stop_reason': 'tool_use', 'thinking': {}, 'model_id': 'anthropic.claude-3-5-sonnet-20240620-v1:0', 'model_name': 'anthropic.claude-3-5-sonnet-20240620-v1:0'}, id='run--51d61b08-10dd-4022-bbdb-f3c3c2912e73-0', tool_calls=[{'name': 'get_information_for_question_answering', 'args': {'user_query': 'What are some best practices for data backups in MongoDB?'}, 'id': 'toolu_bdrk_01LAP3U2USxnVqez6cnJBLdH', 'type': 'tool_call'}], usage_metadata={'input_tokens': 637, 'output_tokens': 125, 'total_tokens': 762, 'input_token_details': {'cache_creation': 0, 'cache_read': 0}})]}\n",
            "Node tools:\n",
            "{'messages': [ToolMessage(content=\"# Backup and Restore Sharded Clusters\\n\\nThe following tutorials describe backup and restoration for sharded clusters:\\n\\nTo use `mongodump` and `mongorestore` as a backup strategy for sharded clusters, you must stop the sharded cluster balancer and use the `fsync` command or the `db.fsyncLock()` method on `mongos` to block writes on the cluster during backups.\\n\\nSharded clusters can also use one of the following coordinated backup and restore processes, which maintain the atomicity guarantees of transactions across shards:\\n\\n- MongoDB Atlas\\n\\n- MongoDB Cloud Manager\\n\\n- MongoDB Ops Manager\\n\\nUse file system snapshots back up each component in the sharded cluster individually. The procedure involves stopping the cluster balancer. If your system configuration allows file system backups, this might be more efficient than using MongoDB tools.\\n\\nCreate backups using `mongodump` to back up each component in the cluster individually.\\n\\nCreate backups using `mongodump` to back up each component in the cluster individually.\\n\\nLimit the operation of the cluster balancer to provide a window for regular backup operations.\\n\\nAn outline of the procedure and consideration for restoring an *entire* sharded cluster from backup.\\n\\n# Configuration and Maintenance\\n\\nThis section describes routine management operations, including updating your MongoDB deployment's configuration.\\n\\nOutlines common MongoDB configurations and examples of best-practice configurations for common use cases.\\n\\nUpgrade a MongoDB deployment to a different patch release within the same major release series.\\n\\nStart, configure, and manage running `mongod` process.\\n\\nStop in progress MongoDB client operations using `db.killOp()` and `maxTimeMS()`.\\n\\nArchive the current log files and start new ones.\\n\\n## Full Time Diagnostic Data Capture\\n\\nTo help MongoDB engineers analyze server behavior, `mongod` and `mongos` processes include a Full Time Diagnostic Data Capture (FTDC) mechanism. FTDC is enabled by default. Due to its importance in debugging deployments, FTDC thread failures are fatal and stop the parent `mongod` or `mongos` process.\\n\\nFTDC data files are compressed and not human-readable. They inherit the same file access permissions as the MongoDB data files. Only users with access to FTDC data files can transmit the FTDC data.\\n\\nMongoDB engineers cannot access FTDC data without explicit permission and assistance from system owners or operators.\\n\\nFTDC data **never** contains any of the following information:\\n\\n- Samples of queries, query predicates, or query results\\n\\n- Data sampled from any end-user collection or index\\n\\n- System or MongoDB user credentials or security certificates\\n\\n# Create a MongoDB Deployment\\n\\nYou can create a free tier MongoDB deployment on MongoDB Atlas to store and manage your data. MongoDB Atlas hosts and manages your MongoDB database in the cloud.\\n\\n## Create a Free MongoDB deployment on Atlas\\n\\nComplete the Get Started with Atlas guide to set up a new Atlas account and load sample data into a new free tier MongoDB deployment.\\n\\n## Save your Credentials\\n\\nAfter you create your database user, save that user's username and password to a safe location for use in an upcoming step.\\n\\nAfter you complete these steps, you have a new free tier MongoDB deployment on Atlas, database user credentials, and sample data loaded in your database.\\n\\nIf you run into issues on this step, ask for help in the MongoDB Community Forums or submit feedback by using the Rate this page tab on the right or bottom right side of this page.\", id='ff1abdee-7130-47f1-95cb-34bb5fabdfe1', tool_call_id='toolu_bdrk_01LAP3U2USxnVqez6cnJBLdH')]}\n",
            "Node agent:\n",
            "{'messages': [AIMessage(content=\"Based on the information retrieved, I can provide you with some best practices for data backups in MongoDB:\\n\\n1. Use coordinated backup and restore processes:\\n   - MongoDB Atlas\\n   - MongoDB Cloud Manager\\n   - MongoDB Ops Manager\\n   These solutions maintain the atomicity guarantees of transactions across shards in sharded clusters.\\n\\n2. For sharded clusters:\\n   - Stop the sharded cluster balancer before performing backups.\\n   - Use the `fsync` command or the `db.fsyncLock()` method on `mongos` to block writes on the cluster during backups when using `mongodump` and `mongorestore`.\\n\\n3. Consider file system snapshots:\\n   - If your system configuration allows, use file system snapshots to back up each component in the sharded cluster individually.\\n   - This method might be more efficient than using MongoDB tools if your system supports it.\\n\\n4. Use `mongodump`:\\n   - Create backups using `mongodump` to back up each component in the cluster individually.\\n   - This is especially useful for non-sharded deployments or when file system snapshots are not available.\\n\\n5. Schedule regular backups:\\n   - Limit the operation of the cluster balancer to provide a window for regular backup operations.\\n\\n6. Plan for full cluster restoration:\\n   - Have a procedure in place for restoring an entire sharded cluster from backup if needed.\\n\\n7. Manage log files:\\n   - Regularly archive current log files and start new ones to maintain a history of database operations and potential issues.\\n\\n8. Enable Full Time Diagnostic Data Capture (FTDC):\\n   - FTDC is enabled by default and helps MongoDB engineers analyze server behavior if issues arise.\\n   - Ensure FTDC is running, as it's crucial for debugging deployments.\\n\\n9. Secure your backups:\\n   - Ensure that backup files inherit the same file access permissions as the MongoDB data files to maintain security.\\n\\n10. Consider cloud-based solutions:\\n    - For easier management and built-in backup solutions, consider using a managed service like MongoDB Atlas, which provides automated backups and easy restoration processes.\\n\\n11. Test your backups:\\n    - Regularly test your backup and restore procedures to ensure they work as expected and that you can recover your data in case of an emergency.\\n\\n12. Document your backup strategy:\\n    - Keep a clear, up-to-date documentation of your backup procedures, including steps for both backup and restoration.\\n\\nBy following these best practices, you can ensure that your MongoDB data is well-protected and can be recovered in case of any data loss or system failures.\", additional_kwargs={'usage': {'prompt_tokens': 1518, 'completion_tokens': 580, 'cache_read_input_tokens': 0, 'cache_write_input_tokens': 0, 'total_tokens': 2098}, 'stop_reason': 'end_turn', 'thinking': {}, 'model_id': 'anthropic.claude-3-5-sonnet-20240620-v1:0', 'model_name': 'anthropic.claude-3-5-sonnet-20240620-v1:0'}, response_metadata={'usage': {'prompt_tokens': 1518, 'completion_tokens': 580, 'cache_read_input_tokens': 0, 'cache_write_input_tokens': 0, 'total_tokens': 2098}, 'stop_reason': 'end_turn', 'thinking': {}, 'model_id': 'anthropic.claude-3-5-sonnet-20240620-v1:0', 'model_name': 'anthropic.claude-3-5-sonnet-20240620-v1:0'}, id='run--392844f7-cd89-476e-ad3f-6551ca268904-0', usage_metadata={'input_tokens': 1518, 'output_tokens': 580, 'total_tokens': 2098, 'input_token_details': {'cache_creation': 0, 'cache_read': 0}})]}\n",
            "---FINAL ANSWER---\n",
            "Based on the information retrieved, I can provide you with some best practices for data backups in MongoDB:\n",
            "\n",
            "1. Use coordinated backup and restore processes:\n",
            "   - MongoDB Atlas\n",
            "   - MongoDB Cloud Manager\n",
            "   - MongoDB Ops Manager\n",
            "   These solutions maintain the atomicity guarantees of transactions across shards in sharded clusters.\n",
            "\n",
            "2. For sharded clusters:\n",
            "   - Stop the sharded cluster balancer before performing backups.\n",
            "   - Use the `fsync` command or the `db.fsyncLock()` method on `mongos` to block writes on the cluster during backups when using `mongodump` and `mongorestore`.\n",
            "\n",
            "3. Consider file system snapshots:\n",
            "   - If your system configuration allows, use file system snapshots to back up each component in the sharded cluster individually.\n",
            "   - This method might be more efficient than using MongoDB tools if your system supports it.\n",
            "\n",
            "4. Use `mongodump`:\n",
            "   - Create backups using `mongodump` to back up each component in the cluster individually.\n",
            "   - This is especially useful for non-sharded deployments or when file system snapshots are not available.\n",
            "\n",
            "5. Schedule regular backups:\n",
            "   - Limit the operation of the cluster balancer to provide a window for regular backup operations.\n",
            "\n",
            "6. Plan for full cluster restoration:\n",
            "   - Have a procedure in place for restoring an entire sharded cluster from backup if needed.\n",
            "\n",
            "7. Manage log files:\n",
            "   - Regularly archive current log files and start new ones to maintain a history of database operations and potential issues.\n",
            "\n",
            "8. Enable Full Time Diagnostic Data Capture (FTDC):\n",
            "   - FTDC is enabled by default and helps MongoDB engineers analyze server behavior if issues arise.\n",
            "   - Ensure FTDC is running, as it's crucial for debugging deployments.\n",
            "\n",
            "9. Secure your backups:\n",
            "   - Ensure that backup files inherit the same file access permissions as the MongoDB data files to maintain security.\n",
            "\n",
            "10. Consider cloud-based solutions:\n",
            "    - For easier management and built-in backup solutions, consider using a managed service like MongoDB Atlas, which provides automated backups and easy restoration processes.\n",
            "\n",
            "11. Test your backups:\n",
            "    - Regularly test your backup and restore procedures to ensure they work as expected and that you can recover your data in case of an emergency.\n",
            "\n",
            "12. Document your backup strategy:\n",
            "    - Keep a clear, up-to-date documentation of your backup procedures, including steps for both backup and restoration.\n",
            "\n",
            "By following these best practices, you can ensure that your MongoDB data is well-protected and can be recovered in case of any data loss or system failures.\n"
          ]
        }
      ],
      "source": [
        "# Test the graph execution to view end-to-end flow\n",
        "execute_graph(\"What are some best practices for data backups in MongoDB?\")"
      ]
    },
    {
      "cell_type": "code",
      "execution_count": 46,
      "metadata": {},
      "outputs": [
        {
          "name": "stdout",
          "output_type": "stream",
          "text": [
            "Node agent:\n",
            "{'messages': [AIMessage(content='Certainly! To provide you with a summary of the page titled \"Create a MongoDB Deployment,\" I\\'ll use the get_page_content_for_summarization tool to retrieve the content of that specific page. Then, I\\'ll summarize the information for you. Let\\'s start by fetching the content:', additional_kwargs={'usage': {'prompt_tokens': 638, 'completion_tokens': 131, 'cache_read_input_tokens': 0, 'cache_write_input_tokens': 0, 'total_tokens': 769}, 'stop_reason': 'tool_use', 'thinking': {}, 'model_id': 'anthropic.claude-3-5-sonnet-20240620-v1:0', 'model_name': 'anthropic.claude-3-5-sonnet-20240620-v1:0'}, response_metadata={'usage': {'prompt_tokens': 638, 'completion_tokens': 131, 'cache_read_input_tokens': 0, 'cache_write_input_tokens': 0, 'total_tokens': 769}, 'stop_reason': 'tool_use', 'thinking': {}, 'model_id': 'anthropic.claude-3-5-sonnet-20240620-v1:0', 'model_name': 'anthropic.claude-3-5-sonnet-20240620-v1:0'}, id='run--b46891be-5c38-4088-8a8d-a84940a98cec-0', tool_calls=[{'name': 'get_page_content_for_summarization', 'args': {'user_query': 'Create a MongoDB Deployment'}, 'id': 'toolu_bdrk_01PTmSkWtiDJpgDMKk7WijNC', 'type': 'tool_call'}], usage_metadata={'input_tokens': 638, 'output_tokens': 131, 'total_tokens': 769, 'input_token_details': {'cache_creation': 0, 'cache_read': 0}})]}\n",
            "Node tools:\n",
            "{'messages': [ToolMessage(content=\"# Create a MongoDB Deployment\\n\\nYou can create a free tier MongoDB deployment on MongoDB Atlas to store and manage your data. MongoDB Atlas hosts and manages your MongoDB database in the cloud.\\n\\n## Create a Free MongoDB deployment on Atlas\\n\\nComplete the Get Started with Atlas guide to set up a new Atlas account and load sample data into a new free tier MongoDB deployment.\\n\\n## Save your Credentials\\n\\nAfter you create your database user, save that user's username and password to a safe location for use in an upcoming step.\\n\\nAfter you complete these steps, you have a new free tier MongoDB deployment on Atlas, database user credentials, and sample data loaded in your database.\\n\\nIf you run into issues on this step, ask for help in the MongoDB Community Forums or submit feedback by using the Rate this page tab on the right or bottom right side of this page.\\n\\n\", id='e41405ce-e03a-4039-be8b-ba98c525e31c', tool_call_id='toolu_bdrk_01PTmSkWtiDJpgDMKk7WijNC')]}\n",
            "Node agent:\n",
            "{'messages': [AIMessage(content='Now that I have the content of the page, I\\'ll provide you with a summary of \"Create a MongoDB Deployment\":\\n\\nSummary:\\nThe page \"Create a MongoDB Deployment\" provides instructions on how to set up a free MongoDB deployment using MongoDB Atlas, a cloud-based database management service. Here are the key points:\\n\\n1. Purpose: The page guides users on creating a free tier MongoDB deployment to store and manage data in the cloud.\\n\\n2. Steps:\\n   a. Follow the \"Get Started with Atlas\" guide to:\\n      - Set up a new Atlas account\\n      - Create a free tier MongoDB deployment\\n      - Load sample data into the deployment\\n\\n3. Credentials: After creating a database user, it\\'s important to save the username and password in a secure location for future use.\\n\\n4. Result: Upon completion, users will have:\\n   - A new free tier MongoDB deployment on Atlas\\n   - Database user credentials\\n   - Sample data loaded into the database\\n\\n5. Support: If users encounter issues, they can seek help through:\\n   - MongoDB Community Forums\\n   - Submitting feedback using the \"Rate this page\" tab on the right or bottom right side of the page\\n\\nThis page serves as a starting point for users who want to begin working with MongoDB in a cloud environment, providing a simple way to create a deployment and load initial data for experimentation or development purposes.', additional_kwargs={'usage': {'prompt_tokens': 954, 'completion_tokens': 298, 'cache_read_input_tokens': 0, 'cache_write_input_tokens': 0, 'total_tokens': 1252}, 'stop_reason': 'end_turn', 'thinking': {}, 'model_id': 'anthropic.claude-3-5-sonnet-20240620-v1:0', 'model_name': 'anthropic.claude-3-5-sonnet-20240620-v1:0'}, response_metadata={'usage': {'prompt_tokens': 954, 'completion_tokens': 298, 'cache_read_input_tokens': 0, 'cache_write_input_tokens': 0, 'total_tokens': 1252}, 'stop_reason': 'end_turn', 'thinking': {}, 'model_id': 'anthropic.claude-3-5-sonnet-20240620-v1:0', 'model_name': 'anthropic.claude-3-5-sonnet-20240620-v1:0'}, id='run--a9a600d5-b2bd-4fb9-b29c-0e63a9fe9d6c-0', usage_metadata={'input_tokens': 954, 'output_tokens': 298, 'total_tokens': 1252, 'input_token_details': {'cache_creation': 0, 'cache_read': 0}})]}\n",
            "---FINAL ANSWER---\n",
            "Now that I have the content of the page, I'll provide you with a summary of \"Create a MongoDB Deployment\":\n",
            "\n",
            "Summary:\n",
            "The page \"Create a MongoDB Deployment\" provides instructions on how to set up a free MongoDB deployment using MongoDB Atlas, a cloud-based database management service. Here are the key points:\n",
            "\n",
            "1. Purpose: The page guides users on creating a free tier MongoDB deployment to store and manage data in the cloud.\n",
            "\n",
            "2. Steps:\n",
            "   a. Follow the \"Get Started with Atlas\" guide to:\n",
            "      - Set up a new Atlas account\n",
            "      - Create a free tier MongoDB deployment\n",
            "      - Load sample data into the deployment\n",
            "\n",
            "3. Credentials: After creating a database user, it's important to save the username and password in a secure location for future use.\n",
            "\n",
            "4. Result: Upon completion, users will have:\n",
            "   - A new free tier MongoDB deployment on Atlas\n",
            "   - Database user credentials\n",
            "   - Sample data loaded into the database\n",
            "\n",
            "5. Support: If users encounter issues, they can seek help through:\n",
            "   - MongoDB Community Forums\n",
            "   - Submitting feedback using the \"Rate this page\" tab on the right or bottom right side of the page\n",
            "\n",
            "This page serves as a starting point for users who want to begin working with MongoDB in a cloud environment, providing a simple way to create a deployment and load initial data for experimentation or development purposes.\n"
          ]
        }
      ],
      "source": [
        "# Test the graph execution to view end-to-end flow\n",
        "execute_graph(\"Give me a summary of the page titled Create a MongoDB Deployment\")"
      ]
    },
    {
      "cell_type": "markdown",
      "metadata": {},
      "source": [
        "# Step 11: Add memory to the agent"
      ]
    },
    {
      "cell_type": "code",
      "execution_count": 47,
      "metadata": {},
      "outputs": [],
      "source": [
        "from langgraph.checkpoint.mongodb import MongoDBSaver"
      ]
    },
    {
      "cell_type": "code",
      "execution_count": 48,
      "metadata": {},
      "outputs": [],
      "source": [
        "# Initialize a MongoDB checkpointer\n",
        "checkpointer = MongoDBSaver(mongodb_client)"
      ]
    },
    {
      "cell_type": "code",
      "execution_count": 49,
      "metadata": {},
      "outputs": [],
      "source": [
        "# Instantiate the graph with the checkpointer\n",
        "app = graph.compile(checkpointer=checkpointer)"
      ]
    },
    {
      "cell_type": "markdown",
      "metadata": {},
      "source": [
        "📚 https://langchain-ai.github.io/langgraph/concepts/persistence/#threads"
      ]
    },
    {
      "cell_type": "code",
      "execution_count": 51,
      "metadata": {},
      "outputs": [],
      "source": [
        "def execute_graph(thread_id: str, user_input: str) -> None:\n",
        "    \"\"\"\n",
        "    Stream outputs from the graph\n",
        "\n",
        "    Args:\n",
        "        thread_id (str): Thread ID for the checkpointer\n",
        "        user_input (str): User query string\n",
        "    \"\"\"\n",
        "    # Add user input to the messages attribute of the graph state\n",
        "    # The role of the message should be \"user\" and content should be `user_input`\n",
        "    input = {\"messages\": [(\"user\", user_input)]}\n",
        "    # Define a config containing the thread ID\n",
        "    config = {\"configurable\": {\"thread_id\": thread_id}}\n",
        "    # Pass `input` and `config` to the graph and stream outputs\n",
        "    for output in app.stream(input, config):\n",
        "        for key, value in output.items():\n",
        "            print(f\"Node {key}:\")\n",
        "            print(value)\n",
        "    print(\"---FINAL ANSWER---\")\n",
        "    print(value[\"messages\"][-1].content)"
      ]
    },
    {
      "cell_type": "code",
      "execution_count": 52,
      "metadata": {},
      "outputs": [
        {
          "name": "stdout",
          "output_type": "stream",
          "text": [
            "Node agent:\n",
            "{'messages': [AIMessage(content=\"To answer this question about best practices for data backups in MongoDB, I'll need to use the get_information_for_question_answering tool to retrieve relevant information. Let me do that now.\", additional_kwargs={'usage': {'prompt_tokens': 637, 'completion_tokens': 116, 'cache_read_input_tokens': 0, 'cache_write_input_tokens': 0, 'total_tokens': 753}, 'stop_reason': 'tool_use', 'thinking': {}, 'model_id': 'anthropic.claude-3-5-sonnet-20240620-v1:0', 'model_name': 'anthropic.claude-3-5-sonnet-20240620-v1:0'}, response_metadata={'usage': {'prompt_tokens': 637, 'completion_tokens': 116, 'cache_read_input_tokens': 0, 'cache_write_input_tokens': 0, 'total_tokens': 753}, 'stop_reason': 'tool_use', 'thinking': {}, 'model_id': 'anthropic.claude-3-5-sonnet-20240620-v1:0', 'model_name': 'anthropic.claude-3-5-sonnet-20240620-v1:0'}, id='run--16583fa4-28a1-42c4-be40-6e2bec44d5ac-0', tool_calls=[{'name': 'get_information_for_question_answering', 'args': {'user_query': 'What are some best practices for data backups in MongoDB?'}, 'id': 'toolu_bdrk_01VB8XSwpfWgdWbNg81Rc7uC', 'type': 'tool_call'}], usage_metadata={'input_tokens': 637, 'output_tokens': 116, 'total_tokens': 753, 'input_token_details': {'cache_creation': 0, 'cache_read': 0}})]}\n",
            "Node tools:\n",
            "{'messages': [ToolMessage(content=\"# Backup and Restore Sharded Clusters\\n\\nThe following tutorials describe backup and restoration for sharded clusters:\\n\\nTo use `mongodump` and `mongorestore` as a backup strategy for sharded clusters, you must stop the sharded cluster balancer and use the `fsync` command or the `db.fsyncLock()` method on `mongos` to block writes on the cluster during backups.\\n\\nSharded clusters can also use one of the following coordinated backup and restore processes, which maintain the atomicity guarantees of transactions across shards:\\n\\n- MongoDB Atlas\\n\\n- MongoDB Cloud Manager\\n\\n- MongoDB Ops Manager\\n\\nUse file system snapshots back up each component in the sharded cluster individually. The procedure involves stopping the cluster balancer. If your system configuration allows file system backups, this might be more efficient than using MongoDB tools.\\n\\nCreate backups using `mongodump` to back up each component in the cluster individually.\\n\\nCreate backups using `mongodump` to back up each component in the cluster individually.\\n\\nLimit the operation of the cluster balancer to provide a window for regular backup operations.\\n\\nAn outline of the procedure and consideration for restoring an *entire* sharded cluster from backup.\\n\\n# Configuration and Maintenance\\n\\nThis section describes routine management operations, including updating your MongoDB deployment's configuration.\\n\\nOutlines common MongoDB configurations and examples of best-practice configurations for common use cases.\\n\\nUpgrade a MongoDB deployment to a different patch release within the same major release series.\\n\\nStart, configure, and manage running `mongod` process.\\n\\nStop in progress MongoDB client operations using `db.killOp()` and `maxTimeMS()`.\\n\\nArchive the current log files and start new ones.\\n\\n## Full Time Diagnostic Data Capture\\n\\nTo help MongoDB engineers analyze server behavior, `mongod` and `mongos` processes include a Full Time Diagnostic Data Capture (FTDC) mechanism. FTDC is enabled by default. Due to its importance in debugging deployments, FTDC thread failures are fatal and stop the parent `mongod` or `mongos` process.\\n\\nFTDC data files are compressed and not human-readable. They inherit the same file access permissions as the MongoDB data files. Only users with access to FTDC data files can transmit the FTDC data.\\n\\nMongoDB engineers cannot access FTDC data without explicit permission and assistance from system owners or operators.\\n\\nFTDC data **never** contains any of the following information:\\n\\n- Samples of queries, query predicates, or query results\\n\\n- Data sampled from any end-user collection or index\\n\\n- System or MongoDB user credentials or security certificates\\n\\n# Create a MongoDB Deployment\\n\\nYou can create a free tier MongoDB deployment on MongoDB Atlas to store and manage your data. MongoDB Atlas hosts and manages your MongoDB database in the cloud.\\n\\n## Create a Free MongoDB deployment on Atlas\\n\\nComplete the Get Started with Atlas guide to set up a new Atlas account and load sample data into a new free tier MongoDB deployment.\\n\\n## Save your Credentials\\n\\nAfter you create your database user, save that user's username and password to a safe location for use in an upcoming step.\\n\\nAfter you complete these steps, you have a new free tier MongoDB deployment on Atlas, database user credentials, and sample data loaded in your database.\\n\\nIf you run into issues on this step, ask for help in the MongoDB Community Forums or submit feedback by using the Rate this page tab on the right or bottom right side of this page.\", id='287b12c2-207b-4588-94dd-a2ae00923133', tool_call_id='toolu_bdrk_01VB8XSwpfWgdWbNg81Rc7uC')]}\n",
            "Node agent:\n",
            "{'messages': [AIMessage(content='Based on the information retrieved, I can provide you with some best practices for data backups in MongoDB:\\n\\n1. Use coordinated backup and restore processes: \\n   - MongoDB Atlas\\n   - MongoDB Cloud Manager\\n   - MongoDB Ops Manager\\n   These maintain atomicity guarantees of transactions across shards in sharded clusters.\\n\\n2. For sharded clusters:\\n   - Stop the sharded cluster balancer before performing backups.\\n   - Use the `fsync` command or the `db.fsyncLock()` method on `mongos` to block writes on the cluster during backups when using `mongodump` and `mongorestore`.\\n\\n3. Consider file system snapshots:\\n   - If your system configuration allows, use file system snapshots to back up each component in the sharded cluster individually.\\n   - This method might be more efficient than using MongoDB tools if your system supports it.\\n\\n4. Use `mongodump`:\\n   - For non-sharded deployments or individual components in a sharded cluster.\\n   - Create backups of each component in the cluster individually.\\n\\n5. Schedule backups during low-activity periods:\\n   - Limit the operation of the cluster balancer to provide a window for regular backup operations.\\n\\n6. Plan for full cluster restoration:\\n   - Have a procedure in place for restoring an entire sharded cluster from backup if needed.\\n\\n7. Regularly test your backup and restore procedures:\\n   - Ensure that your backups are working correctly and can be restored when needed.\\n\\n8. Implement a retention policy:\\n   - Determine how long to keep backups and implement a system for managing and rotating backup files.\\n\\n9. Secure your backups:\\n   - Ensure that backup files have appropriate access permissions to prevent unauthorized access.\\n\\n10. Consider off-site or cloud storage:\\n    - Store backups in a separate location from your primary database to protect against physical disasters.\\n\\n11. Monitor and log backup operations:\\n    - Keep track of successful and failed backup attempts, and set up alerts for any issues.\\n\\nThese best practices will help ensure that your MongoDB data is properly backed up and can be restored in case of data loss or system failure. Remember to adapt these practices to your specific deployment architecture and business requirements.', additional_kwargs={'usage': {'prompt_tokens': 1509, 'completion_tokens': 494, 'cache_read_input_tokens': 0, 'cache_write_input_tokens': 0, 'total_tokens': 2003}, 'stop_reason': 'end_turn', 'thinking': {}, 'model_id': 'anthropic.claude-3-5-sonnet-20240620-v1:0', 'model_name': 'anthropic.claude-3-5-sonnet-20240620-v1:0'}, response_metadata={'usage': {'prompt_tokens': 1509, 'completion_tokens': 494, 'cache_read_input_tokens': 0, 'cache_write_input_tokens': 0, 'total_tokens': 2003}, 'stop_reason': 'end_turn', 'thinking': {}, 'model_id': 'anthropic.claude-3-5-sonnet-20240620-v1:0', 'model_name': 'anthropic.claude-3-5-sonnet-20240620-v1:0'}, id='run--aef05082-3735-41f7-acfb-76f37b77b929-0', usage_metadata={'input_tokens': 1509, 'output_tokens': 494, 'total_tokens': 2003, 'input_token_details': {'cache_creation': 0, 'cache_read': 0}})]}\n",
            "---FINAL ANSWER---\n",
            "Based on the information retrieved, I can provide you with some best practices for data backups in MongoDB:\n",
            "\n",
            "1. Use coordinated backup and restore processes: \n",
            "   - MongoDB Atlas\n",
            "   - MongoDB Cloud Manager\n",
            "   - MongoDB Ops Manager\n",
            "   These maintain atomicity guarantees of transactions across shards in sharded clusters.\n",
            "\n",
            "2. For sharded clusters:\n",
            "   - Stop the sharded cluster balancer before performing backups.\n",
            "   - Use the `fsync` command or the `db.fsyncLock()` method on `mongos` to block writes on the cluster during backups when using `mongodump` and `mongorestore`.\n",
            "\n",
            "3. Consider file system snapshots:\n",
            "   - If your system configuration allows, use file system snapshots to back up each component in the sharded cluster individually.\n",
            "   - This method might be more efficient than using MongoDB tools if your system supports it.\n",
            "\n",
            "4. Use `mongodump`:\n",
            "   - For non-sharded deployments or individual components in a sharded cluster.\n",
            "   - Create backups of each component in the cluster individually.\n",
            "\n",
            "5. Schedule backups during low-activity periods:\n",
            "   - Limit the operation of the cluster balancer to provide a window for regular backup operations.\n",
            "\n",
            "6. Plan for full cluster restoration:\n",
            "   - Have a procedure in place for restoring an entire sharded cluster from backup if needed.\n",
            "\n",
            "7. Regularly test your backup and restore procedures:\n",
            "   - Ensure that your backups are working correctly and can be restored when needed.\n",
            "\n",
            "8. Implement a retention policy:\n",
            "   - Determine how long to keep backups and implement a system for managing and rotating backup files.\n",
            "\n",
            "9. Secure your backups:\n",
            "   - Ensure that backup files have appropriate access permissions to prevent unauthorized access.\n",
            "\n",
            "10. Consider off-site or cloud storage:\n",
            "    - Store backups in a separate location from your primary database to protect against physical disasters.\n",
            "\n",
            "11. Monitor and log backup operations:\n",
            "    - Keep track of successful and failed backup attempts, and set up alerts for any issues.\n",
            "\n",
            "These best practices will help ensure that your MongoDB data is properly backed up and can be restored in case of data loss or system failure. Remember to adapt these practices to your specific deployment architecture and business requirements.\n"
          ]
        }
      ],
      "source": [
        "# Test graph execution with thread ID\n",
        "execute_graph(\n",
        "    \"1\",\n",
        "    \"What are some best practices for data backups in MongoDB?\",\n",
        ")"
      ]
    },
    {
      "cell_type": "code",
      "execution_count": 53,
      "metadata": {},
      "outputs": [
        {
          "name": "stdout",
          "output_type": "stream",
          "text": [
            "Node agent:\n",
            "{'messages': [AIMessage(content='You asked me: \"What are some best practices for data backups in MongoDB?\"', additional_kwargs={'usage': {'prompt_tokens': 2013, 'completion_tokens': 20, 'cache_read_input_tokens': 0, 'cache_write_input_tokens': 0, 'total_tokens': 2033}, 'stop_reason': 'end_turn', 'thinking': {}, 'model_id': 'anthropic.claude-3-5-sonnet-20240620-v1:0', 'model_name': 'anthropic.claude-3-5-sonnet-20240620-v1:0'}, response_metadata={'usage': {'prompt_tokens': 2013, 'completion_tokens': 20, 'cache_read_input_tokens': 0, 'cache_write_input_tokens': 0, 'total_tokens': 2033}, 'stop_reason': 'end_turn', 'thinking': {}, 'model_id': 'anthropic.claude-3-5-sonnet-20240620-v1:0', 'model_name': 'anthropic.claude-3-5-sonnet-20240620-v1:0'}, id='run--8d5418b8-677a-474d-a34a-782c1987730a-0', usage_metadata={'input_tokens': 2013, 'output_tokens': 20, 'total_tokens': 2033, 'input_token_details': {'cache_creation': 0, 'cache_read': 0}})]}\n",
            "---FINAL ANSWER---\n",
            "You asked me: \"What are some best practices for data backups in MongoDB?\"\n"
          ]
        }
      ],
      "source": [
        "# Follow-up question to ensure message history works\n",
        "execute_graph(\n",
        "    \"1\",\n",
        "    \"What did I just ask you?\",\n",
        ")"
      ]
    },
    {
      "cell_type": "code",
      "execution_count": null,
      "metadata": {},
      "outputs": [],
      "source": []
    }
  ],
  "metadata": {
    "kernelspec": {
      "display_name": "Python 3",
      "language": "python",
      "name": "python3"
    },
    "language_info": {
      "codemirror_mode": {
        "name": "ipython",
        "version": 3
      },
      "file_extension": ".py",
      "mimetype": "text/x-python",
      "name": "python",
      "nbconvert_exporter": "python",
      "pygments_lexer": "ipython3",
      "version": "3.12.1"
    },
    "widgets": {
      "application/vnd.jupyter.widget-state+json": {
        "state": {}
      }
    }
  },
  "nbformat": 4,
  "nbformat_minor": 4
}
